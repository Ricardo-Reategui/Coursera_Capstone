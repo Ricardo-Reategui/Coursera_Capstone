# Applied data Science Capstone Project
## This notebook will be used to complete the Capstone Project
import pandas as pd
import numpy as np
print("Hello Capstone Project Course!")
